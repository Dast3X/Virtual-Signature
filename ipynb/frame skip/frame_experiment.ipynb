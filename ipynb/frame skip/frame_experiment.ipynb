{
 "cells": [
  {
   "metadata": {},
   "cell_type": "markdown",
   "source": "# Imports",
   "id": "811d52165e8f6604"
  },
  {
   "metadata": {
    "ExecuteTime": {
     "end_time": "2025-05-13T03:38:01.171504Z",
     "start_time": "2025-05-13T03:38:01.167251Z"
    }
   },
   "cell_type": "code",
   "source": [
    "import cv2\n",
    "import mediapipe as mp\n",
    "import numpy as np\n",
    "import time\n",
    "from matplotlib import pyplot as plt\n",
    "import os\n",
    "import seaborn as sns"
   ],
   "id": "5b0a076c68305d9b",
   "outputs": [],
   "execution_count": 67
  },
  {
   "metadata": {},
   "cell_type": "markdown",
   "source": "# Configuration",
   "id": "f93f43779e8cf8db"
  },
  {
   "metadata": {
    "ExecuteTime": {
     "end_time": "2025-05-13T03:38:01.225968Z",
     "start_time": "2025-05-13T03:38:01.209518Z"
    }
   },
   "cell_type": "code",
   "source": [
    "BLUE = (255, 0, 0)\n",
    "GREEN = (0, 255, 0)\n",
    "RED = (0, 0, 255)\n",
    "WHITE = (255, 255, 255)\n",
    "\n",
    "\n",
    "HAND_CONNECTIONS = mp.solutions.hands.HAND_CONNECTIONS\n",
    "mp_hands = mp.solutions.hands\n",
    "mp_drawing = mp.solutions.drawing_utils\n",
    "hands = mp_hands.Hands(\n",
    "    max_num_hands=1,\n",
    "    min_detection_confidence=0.7,\n",
    "    min_tracking_confidence=0.7,\n",
    ")\n",
    "\n",
    "frame_counter = 0\n",
    "\n",
    "def process_frame(frame, canvas, results, prev_x, prev_y, trajectory_points):\n",
    "    h, w, _ = frame.shape\n",
    "    if results.multi_hand_landmarks:\n",
    "        for hand_landmarks in results.multi_hand_landmarks:\n",
    "            mp_drawing.draw_landmarks(frame, hand_landmarks, mp_hands.HAND_CONNECTIONS)\n",
    "\n",
    "            index_finger_tip = hand_landmarks.landmark[mp_hands.HandLandmark.INDEX_FINGER_TIP]\n",
    "            x, y = int(index_finger_tip.x * w), int(index_finger_tip.y * h)\n",
    "\n",
    "            cv2.circle(frame, (x, y), 10, RED, -1)\n",
    "\n",
    "            trajectory_points.append((x, y))\n",
    "\n",
    "            if prev_x is not None and prev_y is not None:\n",
    "                cv2.line(canvas, (prev_x, prev_y), (x, y), GREEN, 5)\n",
    "            prev_x, prev_y = x, y\n",
    "\n",
    "    cv2.addWeighted(frame, 1, canvas, 1, 0, frame)\n",
    "\n",
    "    return prev_x, prev_y, frame"
   ],
   "id": "4e33aadf36a4224c",
   "outputs": [],
   "execution_count": 68
  },
  {
   "metadata": {},
   "cell_type": "markdown",
   "source": "# Saving results",
   "id": "3ed46e980f469110"
  },
  {
   "metadata": {
    "ExecuteTime": {
     "end_time": "2025-05-13T03:38:01.245294Z",
     "start_time": "2025-05-13T03:38:01.227956Z"
    }
   },
   "cell_type": "code",
   "source": [
    "def plot_results(results):\n",
    "    sns.set(style=\"whitegrid\", context=\"talk\")\n",
    "\n",
    "    metrics = {\n",
    "        'Avg FPS': [r['avg_fps'] for r in results],\n",
    "        'Processing Time (s)': [r['processing_time'] for r\n",
    "                                in results],\n",
    "        'Trajectory Points': [r['points'] for r in results],\n",
    "    }\n",
    "\n",
    "    frame_skips = [r['frame_skip'] for r in results]\n",
    "\n",
    "    plt.figure(figsize=(18, 5))\n",
    "    colors = sns.color_palette(\"Set2\", n_colors=3)\n",
    "\n",
    "    for i, (title, values) in enumerate(metrics.items(), 1):\n",
    "        plt.subplot(1, 3, i)\n",
    "        sns.lineplot(x=frame_skips, y=values, marker='o',\n",
    "                     color=colors[i - 1])\n",
    "        plt.title(f'{title} vs Frame Skip', fontsize=14)\n",
    "        plt.xlabel('Frame Skip')\n",
    "        plt.ylabel(title)\n",
    "        plt.xticks(frame_skips)\n",
    "        plt.grid(True)\n",
    "\n",
    "    plt.tight_layout()\n",
    "    os.makedirs(\"results\", exist_ok=True)\n",
    "    plt.savefig(\"results/plot.png\", dpi=300)\n",
    "    plt.close()\n",
    "    print(\"Saved in results/plots.png\")\n",
    "\n",
    "\n",
    "def save_trajectory(points, frame_skip):\n",
    "    if points:\n",
    "        os.makedirs(\"results\", exist_ok=True)\n",
    "\n",
    "        xs, ys = zip(*points)\n",
    "        plt.figure(figsize=(10, 10))\n",
    "        plt.plot(xs, ys, 'g-', marker='o', markersize=9, linewidth=6,\n",
    "                 markerfacecolor='r')\n",
    "        plt.scatter(xs, ys, color='red', s=9)\n",
    "        plt.xlim(0, 1920)\n",
    "        plt.ylim(1080, 0)\n",
    "        plt.grid(True)\n",
    "        plt.xlabel('x')\n",
    "        plt.ylabel('y')\n",
    "        plt.title(\n",
    "            f'Trajectory (frame_skip={frame_skip - 1 if frame_skip > 1 else \"no skip\"})')\n",
    "\n",
    "        save_path = f'results/trajectory_{frame_skip}.png'\n",
    "        plt.savefig(save_path)\n",
    "        plt.close()\n",
    "\n",
    "\n",
    "def save_results(results):\n",
    "    os.makedirs(\"results\", exist_ok=True)\n",
    "    with open(\"results/experiment_results.md\", \"w\") as f:\n",
    "        f.write(\n",
    "            \"| Frame Skip | Trajectory Points | Avg FPS | Processing Time (s) | Frames Fed Per Sec | \\n\")\n",
    "        f.write(\n",
    "            \"|------------|-------------------|---------|----------------------|----------------------| \\n\")\n",
    "        for r in results:\n",
    "            f.write(\n",
    "                f\"| {r['frame_skip']} | {r['points']} | {r['avg_fps']} | {r['processing_time']} | {int(r['FPS fed per sec'])} | \\n\")\n",
    "\n",
    "    print(\"Saved in results/experiment_results.md\")\n",
    "    plot_results(results)"
   ],
   "id": "a59665781a7e9c6b",
   "outputs": [],
   "execution_count": 69
  },
  {
   "metadata": {},
   "cell_type": "markdown",
   "source": "# Experiment",
   "id": "66a062fb45f601d0"
  },
  {
   "metadata": {
    "ExecuteTime": {
     "end_time": "2025-05-13T03:38:01.262410Z",
     "start_time": "2025-05-13T03:38:01.247311Z"
    }
   },
   "cell_type": "code",
   "source": [
    "def run_experiment(frame_skip=1, video_path=\"video.mp4\"):\n",
    "    cv2.ocl.setUseOpenCL(True)\n",
    "    prev_x, prev_y = None, None\n",
    "    frame_counter = 0\n",
    "    processed_frames_counter = 0\n",
    "    processing_time_total = 0\n",
    "    processing_list = []\n",
    "    trajectory_points = []\n",
    "    fps_list = []\n",
    "\n",
    "    cap = cv2.VideoCapture(video_path)\n",
    "    width, height = int(\n",
    "        cap.get(cv2.CAP_PROP_FRAME_WIDTH)), int(\n",
    "        cap.get(cv2.CAP_PROP_FRAME_HEIGHT))\n",
    "    canvas = np.zeros((height, width, 3), dtype=np.uint8)\n",
    "    print(\"OpenCL enabled:\", cv2.ocl.useOpenCL())\n",
    "\n",
    "    prev_time = time.time()\n",
    "\n",
    "    while cap.isOpened():\n",
    "        ret, frame = cap.read()\n",
    "        if not ret:\n",
    "            break\n",
    "\n",
    "        frame_counter += 1\n",
    "        if frame_counter % frame_skip == 0 or frame_counter == 1:\n",
    "            start = time.process_time()\n",
    "            rgb_frame = cv2.cvtColor(frame,\n",
    "                                     cv2.COLOR_BGR2RGB)\n",
    "            results = hands.process(rgb_frame)\n",
    "            end = time.process_time()\n",
    "            processing_time_total += (end - start)\n",
    "            if processed_frames_counter % (60 / frame_skip) == 0:\n",
    "                processing_list.append(processing_time_total)\n",
    "                processing_time_total = 0\n",
    "            prev_x, prev_y, frame = process_frame(frame,\n",
    "                                                  canvas,\n",
    "                                                  results,\n",
    "                                                  prev_x,\n",
    "                                                  prev_y,\n",
    "                                                  trajectory_points)\n",
    "\n",
    "        current_time = time.time()\n",
    "        fps = 1 / (current_time - prev_time)\n",
    "        prev_time = current_time\n",
    "\n",
    "        cv2.putText(frame, f'FPS: {int(fps)}', (10, 30),\n",
    "                    cv2.FONT_HERSHEY_SIMPLEX, 1,\n",
    "                    (0, 255, 0), 2)\n",
    "        fps_list.append(fps)\n",
    "\n",
    "        # cv2.imshow(\"Virtual Drawing\", frame)\n",
    "\n",
    "        if cv2.waitKey(int(500 / 60)) & 0xFF == ord('q'):\n",
    "            break\n",
    "\n",
    "    cap.release()\n",
    "    cv2.destroyAllWindows()\n",
    "    save_trajectory(trajectory_points, frame_skip)\n",
    "    return trajectory_points, fps_list, processing_list\n",
    "\n",
    "def experiments(video_path=\"video.mp4\"):\n",
    "    frame_skips = [1, 2, 3, 4, 5, 6]\n",
    "    results = []\n",
    "\n",
    "    for frame_skip in frame_skips:\n",
    "        print(f\"Running experiment with frame_skip={frame_skip}\")\n",
    "        trajectory_points, fps_list, processing_list = run_experiment(\n",
    "            frame_skip=frame_skip,\n",
    "            video_path=video_path\n",
    "        )\n",
    "        avg_fps = np.mean(fps_list)\n",
    "        processing_time = np.sum(processing_list)\n",
    "        results.append({\n",
    "            \"frame_skip\": frame_skip - 1,\n",
    "            \"points\": len(trajectory_points),\n",
    "            \"avg_fps\": round(avg_fps, 2),\n",
    "            \"processing_time\": round(processing_time, 3),\n",
    "            \"FPS fed per sec\": int(60 / frame_skip),\n",
    "        })\n",
    "    return results"
   ],
   "id": "ea748c4a8186d24a",
   "outputs": [],
   "execution_count": 70
  },
  {
   "metadata": {},
   "cell_type": "markdown",
   "source": "# Run the experiment",
   "id": "d97adb438a8834fa"
  },
  {
   "metadata": {
    "ExecuteTime": {
     "end_time": "2025-05-13T03:39:31.973030Z",
     "start_time": "2025-05-13T03:38:01.263389Z"
    }
   },
   "cell_type": "code",
   "source": "results = experiments(video_path=\"video.mp4\")",
   "id": "dccfda65a0f7d4fa",
   "outputs": [
    {
     "name": "stdout",
     "output_type": "stream",
     "text": [
      "Running experiment with frame_skip=1\n",
      "OpenCL enabled: True\n",
      "Running experiment with frame_skip=2\n",
      "OpenCL enabled: True\n",
      "Running experiment with frame_skip=3\n",
      "OpenCL enabled: True\n",
      "Running experiment with frame_skip=4\n",
      "OpenCL enabled: True\n",
      "Running experiment with frame_skip=5\n",
      "OpenCL enabled: True\n",
      "Running experiment with frame_skip=6\n",
      "OpenCL enabled: True\n"
     ]
    }
   ],
   "execution_count": 71
  },
  {
   "metadata": {
    "ExecuteTime": {
     "end_time": "2025-05-13T03:39:32.724973Z",
     "start_time": "2025-05-13T03:39:31.975028Z"
    }
   },
   "cell_type": "code",
   "source": "save_results(results)",
   "id": "408e03b62a19b075",
   "outputs": [
    {
     "name": "stdout",
     "output_type": "stream",
     "text": [
      "Saved in results/experiment_results.md\n",
      "Saved in results/plots.png\n"
     ]
    }
   ],
   "execution_count": 72
  }
 ],
 "metadata": {
  "kernelspec": {
   "display_name": "Python 3",
   "language": "python",
   "name": "python3"
  },
  "language_info": {
   "codemirror_mode": {
    "name": "ipython",
    "version": 2
   },
   "file_extension": ".py",
   "mimetype": "text/x-python",
   "name": "python",
   "nbconvert_exporter": "python",
   "pygments_lexer": "ipython2",
   "version": "2.7.6"
  }
 },
 "nbformat": 4,
 "nbformat_minor": 5
}
